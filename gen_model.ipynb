{
 "cells": [
  {
   "cell_type": "markdown",
   "metadata": {},
   "source": [
    "# Generative text model\n",
    "\n",
    "We add a text node to the Bayesian network, conditioned on all diagnoses and symptoms. These conditional text distributions are parameterized by 32 Gaussians, one for each unique combination of diagnosis and symptom values. The rest of the nodes in the Bayesian network are parameterized by regular conditional probability tables which can be learned from the data using maximum likelihood estimation. \n",
    "\n",
    "![title](figures\\models_gen.png)"
   ]
  },
  {
   "cell_type": "code",
   "execution_count": 1,
   "metadata": {},
   "outputs": [],
   "source": [
    "%load_ext autoreload\n",
    "%autoreload 2"
   ]
  },
  {
   "cell_type": "code",
   "execution_count": 2,
   "metadata": {},
   "outputs": [],
   "source": [
    "import pickle\n",
    "with open(\"data/train_4000_final.p\", \"rb\") as file: \n",
    "    train_df = pickle.load(file)"
   ]
  },
  {
   "cell_type": "code",
   "execution_count": 3,
   "metadata": {},
   "outputs": [],
   "source": [
    "import pickle\n",
    "with open(\"data/test_1000_final.p\", \"rb\") as file: \n",
    "    test_df = pickle.load(file)"
   ]
  },
  {
   "cell_type": "code",
   "execution_count": 4,
   "metadata": {},
   "outputs": [],
   "source": [
    "class_map = {\"season\": {\"warm\": 0, \"cold\": 1}, \n",
    "            \"pneu\": {\"no\": 0, \"yes\": 1}, \"inf\": {\"no\": 0, \"yes\": 1}, \n",
    "            \"dysp\": {\"no\": 0, \"yes\": 1}, \"cough\": {\"no\": 0, \"yes\": 1}, \"nasal\": {\"no\": 0, \"yes\": 1}}"
   ]
  },
  {
   "cell_type": "code",
   "execution_count": 5,
   "metadata": {},
   "outputs": [
    {
     "name": "stderr",
     "output_type": "stream",
     "text": [
      "c:\\Users\\Paloma\\anaconda3\\envs\\bn-text\\Lib\\site-packages\\tqdm\\auto.py:21: TqdmWarning: IProgress not found. Please update jupyter and ipywidgets. See https://ipywidgets.readthedocs.io/en/stable/user_install.html\n",
      "  from .autonotebook import tqdm as notebook_tqdm\n",
      "c:\\Users\\Paloma\\Work\\bn-text\\utils\\data.py:112: UserWarning: Creating a tensor from a list of numpy.ndarrays is extremely slow. Please consider converting the list to a single numpy.ndarray with numpy.array() before converting to a tensor. (Triggered internally at C:\\cb\\pytorch_1000000000000\\work\\torch\\csrc\\utils\\tensor_new.cpp:248.)\n",
      "  preprocessed_data[\"text\"] = torch.tensor(self.dataframe[self.emb_type].tolist(), dtype=torch.float, device=self.device)\n"
     ]
    }
   ],
   "source": [
    "from utils.data import TabDataset\n",
    "import torch\n",
    "\n",
    "emb_type = \"BioLORD emb\"\n",
    "device = torch.device(\"cuda\" if torch.cuda.is_available() else \"cpu\") # put train and test data on the device\n",
    "train_set = TabDataset(train_df, class_map, emb_type, device)\n",
    "test_set = TabDataset(test_df, class_map, emb_type, device)"
   ]
  },
  {
   "cell_type": "markdown",
   "metadata": {},
   "source": [
    "In utils.models, you can find the class GenerativeModel. Fitting the distributions in this model consists of two steps.\n",
    "1. learn all conditional probability tables (CPTs), parameterizing the regular portion of the BN: P(season), P(pneu|season), P(inf|season), P(dysp|pneu), P(cough|pneu,inf), P(nasal|inf)\n",
    "2. fit conditional text distributions as Gaussians to parameterize P(text|pneu,inf,dysp,cough,nasal)\n",
    "\n",
    "The code below can be used to do the first step. "
   ]
  },
  {
   "cell_type": "code",
   "execution_count": 14,
   "metadata": {},
   "outputs": [],
   "source": [
    "from torch.utils.data import DataLoader\n",
    "from utils.models import GenerativeModel, GenerativeModelAbl\n",
    "from torch.optim import Adam\n",
    "\n",
    "def train_model_generative_CPTs(train, test, node_names, device, model_type=\"gen\", bs_train=100, epochs=100, seed=2023, lr=0.05):\n",
    "    \"\"\"\n",
    "    training loop for fitting CPT portion of generative model\n",
    "    \n",
    "    train: set of training samples\n",
    "    test: set of test samples\n",
    "    node_names: list of names of regular non-text nodes in the BN\n",
    "    device: device to load the model to (GPU/CPU)\n",
    "    model_type: type of model (\"gen\" or \"gen_abl\")\n",
    "    \n",
    "    bs_train: batch size to use for training\n",
    "    epochs: number of epochs to train for\n",
    "    seed: seed to use for initialization\n",
    "    lr: learning rate \n",
    "\n",
    "    returns\n",
    "        train_loss: list of train losses across epochs\n",
    "        test_loss: list of test losses across epochs\n",
    "        train_loss_individual: dict of individual train losses across epochs (i.e. logP for each separate conditional distribution)\n",
    "        test_loss_individual: dict of individual test losses across epochs (i.e. logP for each separate conditional distribution)\n",
    "        model: trained BN\n",
    "    \"\"\"\n",
    "    \n",
    "    torch.manual_seed(seed)\n",
    "    \n",
    "    train_loader = DataLoader(train, batch_size=bs_train, shuffle=True)\n",
    "    test_loader = DataLoader(test, batch_size=len(test), shuffle=False)\n",
    "\n",
    "    # put model on the device\n",
    "    if model_type == \"gen\":\n",
    "        model = GenerativeModel(seed, device)\n",
    "        model.to(device)\n",
    "    elif model_type == \"gen_abl\":\n",
    "        model = GenerativeModelAbl(seed, device)\n",
    "        model.to(device)\n",
    "\n",
    "    adam = Adam(params=model.parameters(), lr=lr)\n",
    "\n",
    "    train_loss_individual = {key:[] for key in node_names}\n",
    "    test_loss_individual = {key:[] for key in node_names}\n",
    "    train_loss = []\n",
    "    test_loss = []\n",
    "\n",
    "    for epoch in range(epochs):\n",
    "\n",
    "        epoch_loss_individual = {key:0 for key in node_names}\n",
    "        epoch_loss = 0\n",
    "\n",
    "        for i, x in enumerate(train_loader): \n",
    "\n",
    "            model.train()\n",
    "            adam.zero_grad()\n",
    "\n",
    "            LL_fully_obs, LL_part_obs, LL_fully_obs_per_var = model(x) # log likelihood of batch under current parametrization of the model\n",
    "            batch_loss = -(LL_part_obs.sum()+LL_fully_obs.sum()) # batch loss is sum of all individual losses \n",
    "            batch_loss.backward()\n",
    "\n",
    "            LL_individual = {key: loss.sum() for key, loss in LL_fully_obs_per_var.items()} # sum individual losses per var\n",
    "            epoch_loss_individual = {key: loss + -LL_individual[key].item() for key, loss in epoch_loss_individual.items()} # store total losses for individual variables per epoch\n",
    "            epoch_loss += batch_loss.item()\n",
    "            \n",
    "            torch.nn.utils.clip_grad_value_(model.parameters(), 5)\n",
    "            adam.step()\n",
    "        \n",
    "        train_loss_individual = {key: loss_list + [epoch_loss_individual[key]] for key, loss_list in train_loss_individual.items()}\n",
    "        train_loss.append(epoch_loss/len(train))\n",
    "            \n",
    "        with torch.no_grad():\n",
    "            model.eval()\n",
    "            for x_test in test_loader: \n",
    "                LL_fully_obs, LL_part_obs, LL_fully_obs_per_var = model(x_test)\n",
    "                LL_individual = {key: loss.sum() for key, loss in LL_fully_obs_per_var.items()} # sum individual losses per var\n",
    "                test_loss_individual = {key: loss_list + [-LL_individual[key].item()] for key, loss_list in test_loss_individual.items()}\n",
    "                test_loss.append(-(LL_fully_obs.sum()+LL_part_obs.sum()).item()/len(test))\n",
    "\n",
    "    for key in train_loss_individual: \n",
    "        train_loss_individual[key] = [e/train.len_sympt_obs() for e in train_loss_individual[key]] # only count the times when this loss was counted = number of records where symptoms are observed\n",
    "        test_loss_individual[key] = [e/test.len_sympt_obs() for e in test_loss_individual[key]]\n",
    "    \n",
    "    return train_loss, test_loss, train_loss_individual, test_loss_individual, model"
   ]
  },
  {
   "cell_type": "markdown",
   "metadata": {},
   "source": [
    "The hyperparameters bs_train, epochs and lr were optimized using a separate train/val split. "
   ]
  },
  {
   "cell_type": "code",
   "execution_count": null,
   "metadata": {},
   "outputs": [],
   "source": [
    "from sklearn.model_selection import train_test_split\n",
    "seed = 2024\n",
    "subtrain_df, val_df = train_test_split(train_df, train_size=0.8, random_state=seed) # use val_df in code below to optimize hyperparameters"
   ]
  },
  {
   "cell_type": "markdown",
   "metadata": {},
   "source": [
    "Using this train/val split, we landed on the configuration below. "
   ]
  },
  {
   "cell_type": "code",
   "execution_count": 10,
   "metadata": {},
   "outputs": [],
   "source": [
    "bs_train = 256\n",
    "epochs = 15\n",
    "lr = 0.05\n",
    "seed = 2024\n",
    "node_names = [\"season\", \"pneu\", \"inf\", \"dysp\", \"cough\", \"nasal\"]\n",
    "\n",
    "train_loss, test_loss, train_loss_individual, test_loss_individual, model = train_model_generative_CPTs(train_set, test_set, node_names, device, bs_train=bs_train, epochs=epochs, seed=seed, lr=lr)"
   ]
  },
  {
   "cell_type": "markdown",
   "metadata": {},
   "source": [
    "The plot below shows that all invidiual CPT losses have converged. "
   ]
  },
  {
   "cell_type": "code",
   "execution_count": 11,
   "metadata": {},
   "outputs": [
    {
     "data": {
      "image/png": "[encoded data removed]",
      "text/plain": [
       "<Figure size 432x288 with 1 Axes>"
      ]
     },
     "metadata": {
      "needs_background": "light"
     },
     "output_type": "display_data"
    },
    {
     "data": {
      "image/png": "[encoded data removed]",
      "text/plain": [
       "<Figure size 864x576 with 6 Axes>"
      ]
     },
     "metadata": {
      "needs_background": "light"
     },
     "output_type": "display_data"
    }
   ],
   "source": [
    "from utils.evaluation import plot_loss\n",
    "plot_loss(train_loss_individual, test_loss_individual, epochs, train_loss, test_loss)"
   ]
  },
  {
   "cell_type": "markdown",
   "metadata": {},
   "source": [
    "Now we execute step 2, meaning we parameterize the conditional text distribution P(text|pneu,inf,dysp,cough,nasal) for every possible configuration of the set {pneu,inf,dysp,cough,nasal}. We do this based on the subset of training samples where text is actually observed, since there is no need to model empty text embeddings. Hyperparameter alpha was also optimized based on a train-validation split. "
   ]
  },
  {
   "cell_type": "code",
   "execution_count": 12,
   "metadata": {},
   "outputs": [],
   "source": [
    "train_obs = train_df.dropna(axis=0, how=\"any\") # samples where symptoms are not observed cannot contribute to any conditional text distribution, which is conditioned on the value of the symptoms\n",
    "train_text = train_obs[train_obs[\"text\"] != \"\"] # only select fully observed samples where text is not empty "
   ]
  },
  {
   "cell_type": "code",
   "execution_count": 16,
   "metadata": {},
   "outputs": [
    {
     "name": "stderr",
     "output_type": "stream",
     "text": [
      "c:\\Users\\Paloma\\Work\\bn-text\\utils\\models.py:119: UserWarning: cov(): degrees of freedom is <= 0 (Triggered internally at C:\\cb\\pytorch_1000000000000\\work\\aten\\src\\ATen\\native\\Correlation.cpp:117.)\n",
      "  else:\n"
     ]
    }
   ],
   "source": [
    "alpha = 0.85\n",
    "n_emb = 768\n",
    "model.add_gaussians(train_text, alpha, n_emb)"
   ]
  },
  {
   "cell_type": "markdown",
   "metadata": {},
   "source": [
    "Finally, we can use the fitted model to predict the following probabilities: \n",
    "- P(Diag=yes|background,symptoms,text)\n",
    "- P(Diag=yes|background,symptoms) \n",
    "- P(Diag=yes|background,text)\n",
    "\n",
    "We use an exact Bayesian inference procedure for this, which is implemented in infer_query and used by the predict_diagnoses function (see utils.evaluation). \n",
    "\n",
    "We also calculate the KL divergence between the learned CPTs and the ground-truth CPTs. \n",
    "\n",
    "The code below fits the generative model for 5 seeds and calculates these outcomes for every seed. "
   ]
  },
  {
   "cell_type": "code",
   "execution_count": 11,
   "metadata": {},
   "outputs": [
    {
     "name": "stdout",
     "output_type": "stream",
     "text": [
      "cpu\n"
     ]
    },
    {
     "name": "stderr",
     "output_type": "stream",
     "text": [
      "c:\\Users\\Paloma\\Work\\bn-text\\utils\\models.py:119: UserWarning: cov(): degrees of freedom is <= 0 (Triggered internally at C:\\cb\\pytorch_1000000000000\\work\\aten\\src\\ATen\\native\\Correlation.cpp:117.)\n",
      "  cov = torch.cov(embs.t()) # from docs of cov function: rows are variables, columns are observations -> need to transpose emb\n",
      "c:\\Users\\Paloma\\Work\\bn-text\\utils\\models.py:119: UserWarning: cov(): degrees of freedom is <= 0 (Triggered internally at C:\\cb\\pytorch_1000000000000\\work\\aten\\src\\ATen\\native\\Correlation.cpp:117.)\n",
      "  cov = torch.cov(embs.t()) # from docs of cov function: rows are variables, columns are observations -> need to transpose emb\n",
      "c:\\Users\\Paloma\\Work\\bn-text\\utils\\models.py:119: UserWarning: cov(): degrees of freedom is <= 0 (Triggered internally at C:\\cb\\pytorch_1000000000000\\work\\aten\\src\\ATen\\native\\Correlation.cpp:117.)\n",
      "  cov = torch.cov(embs.t()) # from docs of cov function: rows are variables, columns are observations -> need to transpose emb\n",
      "c:\\Users\\Paloma\\Work\\bn-text\\utils\\models.py:119: UserWarning: cov(): degrees of freedom is <= 0 (Triggered internally at C:\\cb\\pytorch_1000000000000\\work\\aten\\src\\ATen\\native\\Correlation.cpp:117.)\n",
      "  cov = torch.cov(embs.t()) # from docs of cov function: rows are variables, columns are observations -> need to transpose emb\n",
      "c:\\Users\\Paloma\\Work\\bn-text\\utils\\models.py:119: UserWarning: cov(): degrees of freedom is <= 0 (Triggered internally at C:\\cb\\pytorch_1000000000000\\work\\aten\\src\\ATen\\native\\Correlation.cpp:117.)\n",
      "  cov = torch.cov(embs.t()) # from docs of cov function: rows are variables, columns are observations -> need to transpose emb\n"
     ]
    }
   ],
   "source": [
    "from utils.evaluation import CPD_params, predict_diagnoses, performance_metrics\n",
    "\n",
    "class_map = {\"season\": {\"warm\": 0, \"cold\": 1}, \n",
    "            \"pneu\": {\"no\": 0, \"yes\": 1}, \"inf\": {\"no\": 0, \"yes\": 1}, \n",
    "            \"dysp\": {\"no\": 0, \"yes\": 1}, \"cough\": {\"no\": 0, \"yes\": 1}, \"nasal\": {\"no\": 0, \"yes\": 1}}\n",
    "    \n",
    "alpha = 0.85\n",
    "bs_train = 256\n",
    "epochs = 15\n",
    "lr = 0.05\n",
    "n_emb = 768\n",
    "seed = 2024\n",
    "node_names = [\"season\", \"pneu\", \"inf\", \"dysp\", \"cough\", \"nasal\"]\n",
    "emb_type = \"BioLORD emb\"\n",
    "\n",
    "device = torch.device(\"cuda\" if torch.cuda.is_available() else \"cpu\")\n",
    "print(device)\n",
    "\n",
    "seeds = [422, 957, 267, 956, 781]\n",
    "\n",
    "results = {}\n",
    "\n",
    "for seed in seeds:\n",
    "\n",
    "    results[seed] = {}\n",
    "\n",
    "    ## TRAINING ##\n",
    "\n",
    "    train_loss, test_loss, train_loss_individual, test_loss_individual, model = train_model_generative_CPTs(train_set, test_set, node_names, device, bs_train=bs_train, epochs=epochs, seed=seed, lr=lr)\n",
    "    train_obs = train_df.dropna(axis=0, how=\"any\") # samples where symptoms are not observed cannot contribute to any conditional text distribution, which is conditioned on the value of the symptoms\n",
    "    train_text = train_obs[train_obs[\"text\"] != \"\"] # only select fully observed samples where text is not empty \n",
    "    model.add_gaussians(train_text, alpha, n_emb)\n",
    "\n",
    "    ## EVALUATION ##\n",
    "\n",
    "    # KL divergence\n",
    "    _, _, KL = CPD_params(model, \"gen\")\n",
    "    results[seed][f\"KL\"] = KL\n",
    "\n",
    "    # P(pneu=yes|background,symptoms,text)\n",
    "    pred_df = predict_diagnoses(model, test_set, 1, model_type=\"gen\")\n",
    "    _, ap = performance_metrics(pred_df, \"pneu\", model_type=\"gen\", plot=False) \n",
    "    results[seed][f\"P(pneu|season,symptoms,text) test PR\"] = ap\n",
    "    _, ap = performance_metrics(pred_df, \"inf\", model_type=\"gen\", plot=False) \n",
    "    results[seed][f\"P(inf|season,symptoms,text) test PR\"] = ap\n",
    "\n",
    "    # P(pneu=yes|background,symptoms)\n",
    "    pred_df = predict_diagnoses(model, test_set, 1, model_type=\"gen\", excl_text=True)\n",
    "    _, ap = performance_metrics(pred_df, \"pneu\", model_type=\"gen\", plot=False) \n",
    "    results[seed][f\"P(pneu|season,symptoms) test PR\"] = ap\n",
    "    _, ap = performance_metrics(pred_df, \"inf\", model_type=\"gen\", plot=False) \n",
    "    results[seed][f\"P(inf|season,symptoms) test PR\"] = ap\n",
    "\n",
    "    # P(pneu=yes|background,text)\n",
    "    pred_df = predict_diagnoses(model, test_set, 1, model_type=\"gen\", excl_sympt=True)\n",
    "    _, ap = performance_metrics(pred_df, \"pneu\", model_type=\"gen\", plot=False) \n",
    "    results[seed][f\"P(pneu|season,text) test PR\"] = ap\n",
    "    _, ap = performance_metrics(pred_df, \"inf\", model_type=\"gen\", plot=False) \n",
    "    results[seed][f\"P(inf|season,text) test PR\"] = ap"
   ]
  },
  {
   "cell_type": "code",
   "execution_count": 12,
   "metadata": {},
   "outputs": [
    {
     "data": {
      "text/plain": [
       "{422: {'KL': 0.00394699651936337,\n",
       "  'P(pneu|season,symptoms,text) test PR': 0.587030869333911,\n",
       "  'P(inf|season,symptoms,text) test PR': 0.7972179604573827,\n",
       "  'P(pneu|season,symptoms) test PR': 0.09014052651578963,\n",
       "  'P(inf|season,symptoms) test PR': 0.8888777490041548,\n",
       "  'P(pneu|season,text) test PR': 0.44336844001611814,\n",
       "  'P(inf|season,text) test PR': 0.7627988382682274},\n",
       " 957: {'KL': 0.00406827583550339,\n",
       "  'P(pneu|season,symptoms,text) test PR': 0.587030869333911,\n",
       "  'P(inf|season,symptoms,text) test PR': 0.7960016164194188,\n",
       "  'P(pneu|season,symptoms) test PR': 0.08864676229611904,\n",
       "  'P(inf|season,symptoms) test PR': 0.8888777490041548,\n",
       "  'P(pneu|season,text) test PR': 0.44336511872247425,\n",
       "  'P(inf|season,text) test PR': 0.7603235442632299},\n",
       " 267: {'KL': 0.0033924094495796273,\n",
       "  'P(pneu|season,symptoms,text) test PR': 0.5870232961654527,\n",
       "  'P(inf|season,symptoms,text) test PR': 0.7974501031464627,\n",
       "  'P(pneu|season,symptoms) test PR': 0.08864676229611904,\n",
       "  'P(inf|season,symptoms) test PR': 0.8888777490041548,\n",
       "  'P(pneu|season,text) test PR': 0.4433634644791748,\n",
       "  'P(inf|season,text) test PR': 0.762746324937024},\n",
       " 956: {'KL': 0.0046024547260417725,\n",
       "  'P(pneu|season,symptoms,text) test PR': 0.5870283366131065,\n",
       "  'P(inf|season,symptoms,text) test PR': 0.7959459017652315,\n",
       "  'P(pneu|season,symptoms) test PR': 0.09014052651578963,\n",
       "  'P(inf|season,symptoms) test PR': 0.8888777490041548,\n",
       "  'P(pneu|season,text) test PR': 0.4433634644791748,\n",
       "  'P(inf|season,text) test PR': 0.7622881746529163},\n",
       " 781: {'KL': 0.0034746643656465644,\n",
       "  'P(pneu|season,symptoms,text) test PR': 0.5870283366131065,\n",
       "  'P(inf|season,symptoms,text) test PR': 0.7972320464180347,\n",
       "  'P(pneu|season,symptoms) test PR': 0.08864676229611904,\n",
       "  'P(inf|season,symptoms) test PR': 0.8888777490041548,\n",
       "  'P(pneu|season,text) test PR': 0.4433634644791748,\n",
       "  'P(inf|season,text) test PR': 0.7639706439329073}}"
      ]
     },
     "execution_count": 12,
     "metadata": {},
     "output_type": "execute_result"
    }
   ],
   "source": [
    "results"
   ]
  },
  {
   "cell_type": "markdown",
   "metadata": {},
   "source": [
    "## Ablation of generative text model\n",
    "\n",
    "We remove the arrows from pneu -> text and inf -> text, meaning we only fit 8 Gaussians instead of 32. The adapted model class is called \"GenerativeModelAbl\". \n",
    "\n",
    "Again, we run over 5 different initialization seeds."
   ]
  },
  {
   "cell_type": "code",
   "execution_count": 15,
   "metadata": {},
   "outputs": [
    {
     "name": "stdout",
     "output_type": "stream",
     "text": [
      "cpu\n"
     ]
    }
   ],
   "source": [
    "from utils.evaluation import CPD_params, predict_diagnoses, performance_metrics\n",
    "\n",
    "class_map = {\"season\": {\"warm\": 0, \"cold\": 1}, \n",
    "            \"pneu\": {\"no\": 0, \"yes\": 1}, \"inf\": {\"no\": 0, \"yes\": 1}, \n",
    "            \"dysp\": {\"no\": 0, \"yes\": 1}, \"cough\": {\"no\": 0, \"yes\": 1}, \"nasal\": {\"no\": 0, \"yes\": 1}}\n",
    "    \n",
    "alpha = 0.85\n",
    "bs_train = 256\n",
    "epochs = 15\n",
    "lr = 0.05\n",
    "n_emb = 768\n",
    "seed = 2024\n",
    "node_names = [\"season\", \"pneu\", \"inf\", \"dysp\", \"cough\", \"nasal\"]\n",
    "emb_type = \"BioLORD emb\"\n",
    "\n",
    "device = torch.device(\"cuda\" if torch.cuda.is_available() else \"cpu\")\n",
    "print(device)\n",
    "\n",
    "test_set = TabDataset(test_df, class_map, emb_type, device)\n",
    "\n",
    "train_sizes = [4000]\n",
    "seeds = [422, 957, 267, 956, 781]\n",
    "\n",
    "results = {}\n",
    "\n",
    "for seed in seeds:\n",
    "\n",
    "    results[seed] = {}\n",
    "\n",
    "    ## TRAINING ##\n",
    "\n",
    "    train_loss, test_loss, train_loss_individual, test_loss_individual, model = train_model_generative_CPTs(train_set, test_set, node_names, device, bs_train=bs_train, epochs=epochs, seed=seed, lr=lr, model_type=\"gen_abl\")\n",
    "    train_obs = train_df.dropna(axis=0, how=\"any\") # samples where symptoms are not observed cannot contribute to any conditional text distribution, which is conditioned on the value of the symptoms\n",
    "    train_text = train_obs[train_obs[\"text\"] != \"\"] # only select fully observed samples where text is not empty \n",
    "    model.add_gaussians(train_text, alpha, n_emb)\n",
    "\n",
    "    ## EVALUATION ##\n",
    "\n",
    "    # KL divergence\n",
    "    _, _, KL = CPD_params(model, \"gen\")\n",
    "    results[seed][f\"KL\"] = KL\n",
    "\n",
    "    # P(pneu=yes|background,symptoms,text)\n",
    "    pred_df = predict_diagnoses(model, test_set, 1, model_type=\"gen\")\n",
    "    _, ap = performance_metrics(pred_df, \"pneu\", model_type=\"gen\", plot=False) \n",
    "    results[seed][f\"P(pneu|season,symptoms,text) test PR\"] = ap\n",
    "    pred_df = predict_diagnoses(model, test_set, 1, model_type=\"gen\")\n",
    "    _, ap = performance_metrics(pred_df, \"inf\", model_type=\"gen\", plot=False) \n",
    "    results[seed][f\"P(inf|season,symptoms,text) test PR\"] = ap\n",
    "\n",
    "    # P(pneu=yes|background,symptoms)\n",
    "    pred_df = predict_diagnoses(model, test_set, 1, model_type=\"gen\", excl_text=True)\n",
    "    _, ap = performance_metrics(pred_df, \"pneu\", model_type=\"gen\", plot=False) \n",
    "    results[seed][f\"P(pneu|season,symptoms) test PR\"] = ap\n",
    "    pred_df = predict_diagnoses(model, test_set, 1, model_type=\"gen\", excl_text=True)\n",
    "    _, ap = performance_metrics(pred_df, \"inf\", model_type=\"gen\", plot=False) \n",
    "    results[seed][f\"P(inf|season,symptoms) test PR\"] = ap\n",
    "\n",
    "    # P(pneu=yes|background,text)\n",
    "    pred_df = predict_diagnoses(model, test_set, 1, model_type=\"gen\", excl_sympt=True)\n",
    "    _, ap = performance_metrics(pred_df, \"pneu\", model_type=\"gen\", plot=False) \n",
    "    results[seed][f\"P(pneu|season,text) test PR\"] = ap\n",
    "    pred_df = predict_diagnoses(model, test_set, 1, model_type=\"gen\", excl_sympt=True)\n",
    "    _, ap = performance_metrics(pred_df, \"inf\", model_type=\"gen\", plot=False) \n",
    "    results[seed][f\"P(inf|season,text) test PR\"] = ap"
   ]
  },
  {
   "cell_type": "code",
   "execution_count": 16,
   "metadata": {},
   "outputs": [
    {
     "data": {
      "text/plain": [
       "{422: {'KL': 0.00394699651936337,\n",
       "  'P(pneu|season,symptoms,text) test PR': 0.09014052651578963,\n",
       "  'P(inf|season,symptoms,text) test PR': 0.8888777490041548,\n",
       "  'P(pneu|season,symptoms) test PR': 0.09014052651578963,\n",
       "  'P(inf|season,symptoms) test PR': 0.8888777490041548,\n",
       "  'P(pneu|season,text) test PR': 0.09420362698454747,\n",
       "  'P(inf|season,text) test PR': 0.8912535567330802},\n",
       " 957: {'KL': 0.00406827583550339,\n",
       "  'P(pneu|season,symptoms,text) test PR': 0.08864676229611904,\n",
       "  'P(inf|season,symptoms,text) test PR': 0.8888777490041548,\n",
       "  'P(pneu|season,symptoms) test PR': 0.08864676229611904,\n",
       "  'P(inf|season,symptoms) test PR': 0.8888777490041548,\n",
       "  'P(pneu|season,text) test PR': 0.09200772797174481,\n",
       "  'P(inf|season,text) test PR': 0.8913817961646368},\n",
       " 267: {'KL': 0.0033924094495796273,\n",
       "  'P(pneu|season,symptoms,text) test PR': 0.08864676229611904,\n",
       "  'P(inf|season,symptoms,text) test PR': 0.8888777490041548,\n",
       "  'P(pneu|season,symptoms) test PR': 0.08864676229611904,\n",
       "  'P(inf|season,symptoms) test PR': 0.8888777490041548,\n",
       "  'P(pneu|season,text) test PR': 0.09437815026596214,\n",
       "  'P(inf|season,text) test PR': 0.8911309340860604},\n",
       " 956: {'KL': 0.0046024547260417725,\n",
       "  'P(pneu|season,symptoms,text) test PR': 0.09014052651578963,\n",
       "  'P(inf|season,symptoms,text) test PR': 0.8888777490041548,\n",
       "  'P(pneu|season,symptoms) test PR': 0.09014052651578963,\n",
       "  'P(inf|season,symptoms) test PR': 0.8888777490041548,\n",
       "  'P(pneu|season,text) test PR': 0.09262458651055755,\n",
       "  'P(inf|season,text) test PR': 0.8914944344516109},\n",
       " 781: {'KL': 0.0034746643656465644,\n",
       "  'P(pneu|season,symptoms,text) test PR': 0.08864676229611904,\n",
       "  'P(inf|season,symptoms,text) test PR': 0.8888777490041548,\n",
       "  'P(pneu|season,symptoms) test PR': 0.08864676229611904,\n",
       "  'P(inf|season,symptoms) test PR': 0.8888777490041548,\n",
       "  'P(pneu|season,text) test PR': 0.09344697264963092,\n",
       "  'P(inf|season,text) test PR': 0.8917483148222299}}"
      ]
     },
     "execution_count": 16,
     "metadata": {},
     "output_type": "execute_result"
    }
   ],
   "source": [
    "results"
   ]
  },
  {
   "cell_type": "code",
   "execution_count": null,
   "metadata": {},
   "outputs": [],
   "source": []
  }
 ],
 "metadata": {
  "kernelspec": {
   "display_name": "bn-text",
   "language": "python",
   "name": "python3"
  },
  "language_info": {
   "codemirror_mode": {
    "name": "ipython",
    "version": 3
   },
   "file_extension": ".py",
   "mimetype": "text/x-python",
   "name": "python",
   "nbconvert_exporter": "python",
   "pygments_lexer": "ipython3",
   "version": "3.11.4"
  }
 },
 "nbformat": 4,
 "nbformat_minor": 2
}
