{
 "cells": [
  {
   "cell_type": "markdown",
   "metadata": {},
   "source": [
    "# Bayesian network baselines\n",
    "\n",
    "We build two Bayesian network baselines. \n",
    "\n",
    "![title](figures/models_BN.png)\n",
    "\n",
    "## BN baseline\n",
    "\n",
    "We initialize the structure of the BN using the true ground truth DAG. We learn the conditional probability distributions that specify the joint probability distribution from the training data. We evaluate diagnostic performance through Bayesian inference on the test data. "
   ]
  },
  {
   "cell_type": "code",
   "execution_count": 3,
   "metadata": {},
   "outputs": [],
   "source": [
    "%load_ext autoreload\n",
    "%autoreload 2"
   ]
  },
  {
   "cell_type": "code",
   "execution_count": 1,
   "metadata": {},
   "outputs": [],
   "source": [
    "import pickle\n",
    "with open(\"data/train_4000_final.p\", \"rb\") as file: \n",
    "    train_df = pickle.load(file)"
   ]
  },
  {
   "cell_type": "code",
   "execution_count": 2,
   "metadata": {},
   "outputs": [],
   "source": [
    "import pickle\n",
    "with open(\"data/test_1000_final.p\", \"rb\") as file: \n",
    "    test_df = pickle.load(file)"
   ]
  },
  {
   "cell_type": "code",
   "execution_count": 7,
   "metadata": {},
   "outputs": [],
   "source": [
    "from pgmpy.inference.ExactInference import VariableElimination\n",
    "import pandas as pd\n",
    "\n",
    "def get_diagnosis_pred_symptom(model, test_set, excl_sympt=False):\n",
    "    \"\"\"\n",
    "    build prediction dataframe for diagnoses (pneu, inf) based on all observed symptoms (dysp, cough, nasal) and background (season)\n",
    "    P(Pneu=yes|Symptoms,Season) and P(Inf=yes|Symptoms,Season)\n",
    "\n",
    "    model: BN model with learned probability tables \n",
    "    test_set: dataframe with test cases\n",
    "    excl_sympt: whether to exclude Symptoms from evidence, and instead calculate P(Pneu=yes|Season) and P(Inf=yes|Season)\n",
    "\n",
    "    returns: test_set dataframe, extended with prediction for diagnoses (pred_pneu, pred_inf)\n",
    "    \"\"\"\n",
    "\n",
    "    res_df = pd.DataFrame(columns=list(test_set.columns))\n",
    "    inf = VariableElimination(model)\n",
    "\n",
    "    for i in test_set.index: \n",
    "        x = test_set.loc[i]\n",
    "        if not x.isna().any(): # skip over cases where symptoms are unknown\n",
    "            evidence = {key:val for key, val in x.items() if key not in [\"pneu\", \"inf\"]}\n",
    "            if not excl_sympt:\n",
    "                res_pneu = inf.query([\"pneu\"], evidence=evidence, show_progress=False).get_value(**{\"pneu\":\"yes\"}) # P(Pneu = 1 | Season, Dysp, Cough, Nasal)\n",
    "                res_inf = inf.query([\"inf\"], evidence=evidence, show_progress=False).get_value(**{\"inf\":\"yes\"}) # P(Inf = 1 | Season, Dysp, Cough, Nasal)\n",
    "            else: \n",
    "                res_pneu = inf.query([\"pneu\"], evidence={\"season\": x[\"season\"]}, show_progress=False).get_value(**{\"pneu\":\"yes\"})\n",
    "                res_inf = inf.query([\"inf\"], evidence={\"season\": x[\"season\"]}, show_progress=False).get_value(**{\"inf\":\"yes\"})\n",
    "            batch_df = pd.DataFrame(x.to_dict(), index=[i])\n",
    "            batch_df[\"pred_pneu\"] = res_pneu\n",
    "            batch_df[\"pred_inf\"] = res_inf\n",
    "            res_df = pd.concat([res_df, batch_df], ignore_index=False)\n",
    "\n",
    "    return res_df"
   ]
  },
  {
   "cell_type": "code",
   "execution_count": 12,
   "metadata": {},
   "outputs": [],
   "source": [
    "from utils.baselines import fit_BN_model\n",
    "from utils.evaluation import CPD_params, performance_metrics\n",
    "\n",
    "model_type = \"BN\"\n",
    "\n",
    "test_set = test_df[[\"season\", \"pneu\", \"inf\", \"dysp\", \"cough\", \"nasal\"]]\n",
    "train_set = train_df[[\"season\", \"pneu\", \"inf\", \"dysp\", \"cough\", \"nasal\"]]\n",
    "\n",
    "results = {}\n",
    "\n",
    "model = fit_BN_model(train_set)\n",
    "\n",
    "_, _, results[\"KL\"] = CPD_params(model, model_type)\n",
    "\n",
    "pred_df = get_diagnosis_pred_symptom(model, test_set, excl_sympt=False)\n",
    "roc_auc, pr_auc = performance_metrics(pred_df, \"pneu\", model_type, plot=False)\n",
    "results[\"P(pneu|season,symptoms) test PR\"] = pr_auc\n",
    "roc_auc, pr_auc = performance_metrics(pred_df, \"inf\", model_type, plot=False)\n",
    "results[\"P(inf|season,symptoms) train PR\"] = pr_auc\n",
    "\n",
    "pred_df = get_diagnosis_pred_symptom(model, test_set, excl_sympt=True)\n",
    "roc_auc, pr_auc = performance_metrics(pred_df, \"pneu\", model_type, plot=False)\n",
    "results[\"P(pneu|season) test PR\"] = pr_auc\n",
    "roc_auc, pr_auc = performance_metrics(pred_df, \"inf\", model_type, plot=False)\n",
    "results[\"P(inf|season) train PR\"] = pr_auc\n"
   ]
  },
  {
   "cell_type": "code",
   "execution_count": 13,
   "metadata": {},
   "outputs": [
    {
     "data": {
      "text/plain": [
       "{'KL': 0.0028532112739444327,\n",
       " 'P(pneu|season,symptoms) test PR': 0.0914367231372981,\n",
       " 'P(inf|season,symptoms) train PR': 0.8883862289669199,\n",
       " 'P(pneu|season) test PR': 0.03022864060878589,\n",
       " 'P(inf|season) train PR': 0.4441163639127461}"
      ]
     },
     "execution_count": 13,
     "metadata": {},
     "output_type": "execute_result"
    }
   ],
   "source": [
    "results"
   ]
  },
  {
   "cell_type": "markdown",
   "metadata": {},
   "source": [
    "## BN++ Baseline\n",
    "\n",
    "This Bayesian network is trained with a version of the dataset where pain and fever are exceptionally *not* masked out. We also evaluate on a version of the test set where the two are unmasked, meaning they are included in the evidence during inference. "
   ]
  },
  {
   "cell_type": "code",
   "execution_count": 2,
   "metadata": {},
   "outputs": [],
   "source": [
    "import pickle\n",
    "with open(\"data/train_4000_final_fever_pain.p\", \"rb\") as file: \n",
    "    train_df = pickle.load(file)"
   ]
  },
  {
   "cell_type": "code",
   "execution_count": 1,
   "metadata": {},
   "outputs": [],
   "source": [
    "import pickle\n",
    "with open(\"data/test_1000_final_fever_pain.p\", \"rb\") as file: \n",
    "    test_df = pickle.load(file)"
   ]
  },
  {
   "cell_type": "markdown",
   "metadata": {},
   "source": [
    "This model needs its own implementation of the CPD_params function, since the one in utils/evaluation assumes that the fever and pain symptoms are missing. "
   ]
  },
  {
   "cell_type": "code",
   "execution_count": 3,
   "metadata": {},
   "outputs": [
    {
     "name": "stderr",
     "output_type": "stream",
     "text": [
      "c:\\Users\\Paloma\\anaconda3\\envs\\bn-text\\Lib\\site-packages\\tqdm\\auto.py:21: TqdmWarning: IProgress not found. Please update jupyter and ipywidgets. See https://ipywidgets.readthedocs.io/en/stable/user_install.html\n",
      "  from .autonotebook import tqdm as notebook_tqdm\n"
     ]
    }
   ],
   "source": [
    "from pgmpy.inference.ExactInference import VariableElimination\n",
    "import itertools\n",
    "import pandas as pd\n",
    "import numpy as np\n",
    "\n",
    "def calc_prob_CPT_BN_plus(df, combo): \n",
    "    val = {\"season\": combo[0], \"pneu\": combo[1], \"inf\": combo[2], \"dysp\": combo[3], \"cough\": combo[4], \"nasal\":combo[5], \"pain\": combo[6], \"fever\":combo[7]} \n",
    "    prob = df[\"season\"].iloc[val[\"season\"], 0] \n",
    "    prob *= df[\"pneu\"].iloc[val[\"pneu\"], val[\"season\"]]\n",
    "    prob *= df[\"inf\"].iloc[val[\"inf\"], val[\"season\"]]\n",
    "    prob *= df[\"dysp\"].iloc[val[\"dysp\"], val[\"pneu\"]]\n",
    "    prob *= df[\"nasal\"].iloc[val[\"nasal\"], val[\"inf\"]]\n",
    "    idx = 2*(val[\"pneu\"]) + val[\"inf\"]\n",
    "    prob *= df[\"cough\"].iloc[val[\"cough\"], idx]\n",
    "    prob *= df[\"fever\"].iloc[val[\"fever\"], idx]\n",
    "    prob *= df[\"pain\"].iloc[val[\"pain\"], idx]\n",
    "    return prob\n",
    "\n",
    "def CPD_params_BN_plus(model): \n",
    "\n",
    "    # ground truth CPD parameters from BN\n",
    "    df_GT = {}\n",
    "    df_GT[\"season\"] = pd.DataFrame({\"\": [0.4, 0.6]}, index=[\"season = cold\", \"season = warm\"])\n",
    "    df_GT[\"pneu\"] = pd.DataFrame({\"season = warm\": [0.005, 0.995], \n",
    "                            \"season = cold\": [0.015, 0.985]}, index=[\"pneu = yes\", \"pneu = no\"])\n",
    "    df_GT[\"inf\"] = pd.DataFrame({\"season = warm\": [0.05, 0.95], \n",
    "                           \"season = cold\": [0.5, 0.5]}, index=[\"inf = yes\", \"inf = no\"])\n",
    "    df_GT[\"dysp\"] = pd.DataFrame({\"pneu = yes\": [0.3, 0.7],\n",
    "                            \"pneu = no\": [0.15, 0.85]}, index=[\"dysp = yes\", \"dysp = no\"])\n",
    "    df_GT[\"nasal\"] = pd.DataFrame({\"inf = yes\": [0.7, 0.3], \n",
    "                             \"inf = no\": [0.2, 0.8]}, index=[\"nasal = yes\", \"nasal = no\"])\n",
    "    df_GT[\"cough\"] = pd.DataFrame({\"pneu = yes, inf = yes\": [0.9, 0.1], \n",
    "                             \"pneu = yes, inf = no\": [0.9, 0.1], \n",
    "                             \"pneu = no, inf = yes\": [0.8, 0.2], \n",
    "                             \"pneu = no, inf = no\": [0.05, 0.95]}, index=[\"cough = yes\", \"cough = no\"])\n",
    "    df_GT[\"fever\"] = pd.DataFrame({\"pneu = yes, inf = yes\": [0.80, 0.15, 0.05], \n",
    "                             \"pneu = yes, inf = no\": [0.80, 0.10, 0.10], \n",
    "                             \"pneu = no, inf = yes\": [0.01, 0.14, 0.85], \n",
    "                             \"pneu = no, inf = no\": [0.05, 0.15, 0.80]}, index=[\"fever = high\", \"fever = low\", \"fever = none\"])\n",
    "    df_GT[\"pain\"] = pd.DataFrame({\"pneu = yes, inf = yes\": [0.3, 0.7], \n",
    "                             \"pneu = yes, inf = no\": [0.3, 0.7], \n",
    "                             \"pneu = no, inf = yes\": [0.1, 0.9], \n",
    "                             \"pneu = no, inf = no\": [0.05, 0.95]}, index=[\"pain = yes\", \"pain = no\"])\n",
    "\n",
    "    # CPD parameters estimated from BN\n",
    "    inf = VariableElimination(model)\n",
    "\n",
    "    seas_prob = inf.query([\"season\"], evidence={}, show_progress=False).get_value(**{\"season\":\"cold\"})\n",
    "\n",
    "    pneu_prob = [0, 0]\n",
    "    pneu_prob[0] = inf.query([\"pneu\"], evidence={\"season\": \"warm\"}, show_progress=False).get_value(**{\"pneu\":\"yes\"})\n",
    "    pneu_prob[1] = inf.query([\"pneu\"], evidence={\"season\": \"cold\"}, show_progress=False).get_value(**{\"pneu\":\"yes\"})\n",
    "\n",
    "    inf_prob = [0, 0]\n",
    "    inf_prob[0] = inf.query([\"inf\"], evidence={\"season\": \"warm\"}, show_progress=False).get_value(**{\"inf\":\"yes\"})\n",
    "    inf_prob[1] = inf.query([\"inf\"], evidence={\"season\": \"cold\"}, show_progress=False).get_value(**{\"inf\":\"yes\"})\n",
    "\n",
    "    dysp_prob = [0, 0]\n",
    "    dysp_prob[0] = inf.query([\"dysp\"], evidence={\"pneu\": \"no\"}, show_progress=False).get_value(**{\"dysp\":\"yes\"})\n",
    "    dysp_prob[1] = inf.query([\"dysp\"], evidence={\"pneu\": \"yes\"}, show_progress=False).get_value(**{\"dysp\":\"yes\"})\n",
    "\n",
    "    nasal_prob = [0, 0]\n",
    "    nasal_prob[0] = inf.query([\"nasal\"], evidence={\"inf\": \"no\"}, show_progress=False).get_value(**{\"nasal\":\"yes\"})\n",
    "    nasal_prob[1] = inf.query([\"nasal\"], evidence={\"inf\": \"yes\"}, show_progress=False).get_value(**{\"nasal\":\"yes\"})\n",
    "\n",
    "    cough_prob = [0, 0, 0, 0]\n",
    "    cough_prob[0] = inf.query([\"cough\"], evidence={\"pneu\": \"no\", \"inf\": \"no\"}, show_progress=False).get_value(**{\"cough\":\"yes\"})\n",
    "    cough_prob[1] = inf.query([\"cough\"], evidence={\"pneu\": \"no\", \"inf\": \"yes\"}, show_progress=False).get_value(**{\"cough\":\"yes\"})\n",
    "    cough_prob[2] = inf.query([\"cough\"], evidence={\"pneu\": \"yes\", \"inf\": \"no\"}, show_progress=False).get_value(**{\"cough\":\"yes\"})\n",
    "    cough_prob[3] = inf.query([\"cough\"], evidence={\"pneu\": \"yes\", \"inf\": \"yes\"}, show_progress=False).get_value(**{\"cough\":\"yes\"})\n",
    "\n",
    "    fever_prob = [0, 0, 0, 0, 0, 0, 0, 0, 0, 0, 0, 0]\n",
    "    fever_prob[0] = inf.query([\"fever\"], evidence={\"pneu\": \"no\", \"inf\": \"no\"}, show_progress=False).get_value(**{\"fever\":\"none\"})\n",
    "    fever_prob[1] = inf.query([\"fever\"], evidence={\"pneu\": \"no\", \"inf\": \"no\"}, show_progress=False).get_value(**{\"fever\":\"low\"})\n",
    "    fever_prob[2] = inf.query([\"fever\"], evidence={\"pneu\": \"no\", \"inf\": \"no\"}, show_progress=False).get_value(**{\"fever\":\"high\"})\n",
    "    fever_prob[3] = inf.query([\"fever\"], evidence={\"pneu\": \"no\", \"inf\": \"yes\"}, show_progress=False).get_value(**{\"fever\":\"none\"})\n",
    "    fever_prob[4] = inf.query([\"fever\"], evidence={\"pneu\": \"no\", \"inf\": \"yes\"}, show_progress=False).get_value(**{\"fever\":\"low\"})\n",
    "    fever_prob[5] = inf.query([\"fever\"], evidence={\"pneu\": \"no\", \"inf\": \"yes\"}, show_progress=False).get_value(**{\"fever\":\"high\"})\n",
    "    fever_prob[6] = inf.query([\"fever\"], evidence={\"pneu\": \"yes\", \"inf\": \"no\"}, show_progress=False).get_value(**{\"fever\":\"none\"})\n",
    "    fever_prob[7] = inf.query([\"fever\"], evidence={\"pneu\": \"yes\", \"inf\": \"no\"}, show_progress=False).get_value(**{\"fever\":\"low\"})\n",
    "    fever_prob[8] = inf.query([\"fever\"], evidence={\"pneu\": \"yes\", \"inf\": \"no\"}, show_progress=False).get_value(**{\"fever\":\"high\"})\n",
    "    fever_prob[9] = inf.query([\"fever\"], evidence={\"pneu\": \"yes\", \"inf\": \"yes\"}, show_progress=False).get_value(**{\"fever\":\"none\"})\n",
    "    fever_prob[10] = inf.query([\"fever\"], evidence={\"pneu\": \"yes\", \"inf\": \"yes\"}, show_progress=False).get_value(**{\"fever\":\"low\"})\n",
    "    fever_prob[11] = inf.query([\"fever\"], evidence={\"pneu\": \"yes\", \"inf\": \"yes\"}, show_progress=False).get_value(**{\"fever\":\"high\"})\n",
    "\n",
    "    pain_prob = [0, 0, 0, 0]\n",
    "    pain_prob[0] = inf.query([\"pain\"], evidence={\"pneu\": \"no\", \"inf\": \"no\"}, show_progress=False).get_value(**{\"pain\":\"yes\"})\n",
    "    pain_prob[1] = inf.query([\"pain\"], evidence={\"pneu\": \"no\", \"inf\": \"yes\"}, show_progress=False).get_value(**{\"pain\":\"yes\"})\n",
    "    pain_prob[2] = inf.query([\"pain\"], evidence={\"pneu\": \"yes\", \"inf\": \"no\"}, show_progress=False).get_value(**{\"pain\":\"yes\"})\n",
    "    pain_prob[3] = inf.query([\"pain\"], evidence={\"pneu\": \"yes\", \"inf\": \"yes\"}, show_progress=False).get_value(**{\"pain\":\"yes\"})\n",
    " \n",
    "    df_est = {}\n",
    "    df_est[\"season\"] = pd.DataFrame({\"\": [seas_prob, 1-seas_prob]}, index=[\"season = cold\", \"season = warm\"])\n",
    "    df_est[\"pneu\"] = pd.DataFrame({\"season = warm\": [pneu_prob[0], 1-pneu_prob[0]], \n",
    "                                   \"season = cold\": [pneu_prob[1], 1-pneu_prob[1]]}, index=[\"pneu = yes\", \"pneu = no\"])\n",
    "    df_est[\"inf\"] = pd.DataFrame({\"season = warm\": [inf_prob[0], 1-inf_prob[0]], \n",
    "                                  \"season = cold\": [inf_prob[1], 1-inf_prob[1]]}, index=[\"inf = yes\", \"inf = no\"])\n",
    "    df_est[\"dysp\"] = pd.DataFrame({\"pneu = yes\": [dysp_prob[1], 1-dysp_prob[1]],\n",
    "                                   \"pneu = no\": [dysp_prob[0], 1-dysp_prob[0]]}, index=[\"dysp = yes\", \"dysp = no\"])\n",
    "    df_est[\"nasal\"] = pd.DataFrame({\"inf = yes\": [nasal_prob[1], 1-nasal_prob[1]], \n",
    "                                    \"inf = no\": [nasal_prob[0], 1-nasal_prob[0]]}, index=[\"nasal = yes\", \"nasal = no\"])\n",
    "    df_est[\"cough\"] = pd.DataFrame({\"pneu = yes, inf = yes\": [cough_prob[3], 1-cough_prob[3]], \n",
    "                                    \"pneu = yes, inf = no\": [cough_prob[2], 1-cough_prob[2]], \n",
    "                                    \"pneu = no, inf = yes\": [cough_prob[1], 1-cough_prob[1]], \n",
    "                                    \"pneu = no, inf = no\": [cough_prob[0], 1-cough_prob[0]]}, index=[\"cough = yes\", \"cough = no\"])\n",
    "    df_est[\"fever\"] = pd.DataFrame({\"pneu = yes, inf = yes\": [fever_prob[11], fever_prob[10], fever_prob[9]], \n",
    "                                    \"pneu = yes, inf = no\": [fever_prob[8], fever_prob[7], fever_prob[6]], \n",
    "                                    \"pneu = no, inf = yes\": [fever_prob[5], fever_prob[4], fever_prob[3]], \n",
    "                                    \"pneu = no, inf = no\": [fever_prob[2], fever_prob[1], fever_prob[0]]}, index=[\"fever = high\", \"fever = low\", \"fever = none\"])\n",
    "    df_est[\"pain\"] = pd.DataFrame({\"pneu = yes, inf = yes\": [pain_prob[3], 1-pain_prob[3]], \n",
    "                                    \"pneu = yes, inf = no\": [pain_prob[2], 1-pain_prob[2]], \n",
    "                                    \"pneu = no, inf = yes\": [pain_prob[1], 1-pain_prob[1]], \n",
    "                                    \"pneu = no, inf = no\": [pain_prob[0], 1-pain_prob[0]]}, index=[\"pain = yes\", \"pain = no\"])\n",
    "\n",
    "    # calculate KL divergence based on joint probability distribution for both CPD configurations\n",
    "    KL =0\n",
    "    val_combos = list(itertools.product([0, 1], repeat=7))\n",
    "    all_combos = []\n",
    "    for combo in val_combos: # add pain (three categories)\n",
    "        for j in (0, 1, 2): \n",
    "            combo_l = list(combo)\n",
    "            combo_l.append(j)\n",
    "            all_combos.append(combo_l)\n",
    "    for combo in all_combos: # sum over all possible x\n",
    "        prob_GT = calc_prob_CPT_BN_plus(df_GT, combo) # P(x)\n",
    "        prob_est = calc_prob_CPT_BN_plus(df_est, combo) # Q(x)\n",
    "        if prob_est == 0: \n",
    "            prob_est += 1e-8 # avoid division by zero error\n",
    "        KL += prob_GT*np.log(prob_GT/prob_est) # P(x)*log(P(x)/Q(x))\n",
    "\n",
    "    return df_GT, df_est, KL"
   ]
  },
  {
   "cell_type": "code",
   "execution_count": 8,
   "metadata": {},
   "outputs": [],
   "source": [
    "from utils.baselines import fit_BN_plus_model\n",
    "from utils.evaluation import performance_metrics\n",
    "\n",
    "model_type = \"BN_plus\"\n",
    "\n",
    "test_set = test_df[[\"season\", \"pneu\", \"inf\", \"dysp\", \"cough\", \"fever\", \"pain\", \"nasal\"]]\n",
    "train_set = train_df[[\"season\", \"pneu\", \"inf\", \"dysp\", \"cough\", \"fever\", \"pain\", \"nasal\"]]\n",
    "\n",
    "results = {}\n",
    "\n",
    "model = fit_BN_plus_model(train_set)\n",
    "\n",
    "_, _, results[\"KL\"] = CPD_params_BN_plus(model)\n",
    "\n",
    "pred_df = get_diagnosis_pred_symptom(model, test_set, excl_sympt=False)\n",
    "roc_auc, pr_auc = performance_metrics(pred_df, \"pneu\", model_type, plot=False)\n",
    "results[\"P(pneu|season,symptoms) test PR\"] = pr_auc\n",
    "roc_auc, pr_auc = performance_metrics(pred_df, \"inf\", model_type, plot=False)\n",
    "results[\"P(inf|season,symptoms) train PR\"] = pr_auc\n",
    "\n",
    "pred_df = get_diagnosis_pred_symptom(model, test_set, excl_sympt=True)\n",
    "roc_auc, pr_auc = performance_metrics(pred_df, \"pneu\", model_type, plot=False)\n",
    "results[\"P(pneu|season) test PR\"] = pr_auc\n",
    "roc_auc, pr_auc = performance_metrics(pred_df, \"inf\", model_type, plot=False)\n",
    "results[\"P(inf|season) train PR\"] = pr_auc\n"
   ]
  },
  {
   "cell_type": "code",
   "execution_count": 9,
   "metadata": {},
   "outputs": [
    {
     "data": {
      "text/plain": [
       "{'KL': 0.005035791416727543,\n",
       " 'P(pneu|season,symptoms) test PR': 0.8326185019462329,\n",
       " 'P(inf|season,symptoms) train PR': 0.9008519220159485,\n",
       " 'P(pneu|season) test PR': 0.03022864060878589,\n",
       " 'P(inf|season) train PR': 0.4441163639127461}"
      ]
     },
     "execution_count": 9,
     "metadata": {},
     "output_type": "execute_result"
    }
   ],
   "source": [
    "results"
   ]
  }
 ],
 "metadata": {
  "kernelspec": {
   "display_name": "bn-text",
   "language": "python",
   "name": "python3"
  },
  "language_info": {
   "codemirror_mode": {
    "name": "ipython",
    "version": 3
   },
   "file_extension": ".py",
   "mimetype": "text/x-python",
   "name": "python",
   "nbconvert_exporter": "python",
   "pygments_lexer": "ipython3",
   "version": "3.11.4"
  }
 },
 "nbformat": 4,
 "nbformat_minor": 2
}
