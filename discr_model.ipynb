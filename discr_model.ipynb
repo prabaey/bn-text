{
 "cells": [
  {
   "cell_type": "markdown",
   "metadata": {},
   "source": [
    "# Discriminative text model\n",
    "\n",
    "We make text a parent of the nodes pneu, inf, dysp, cough and nasal. This means each of their conditional probability distributions is modeled as the output of a text classifier, one for each non-text parent configuration. For example, P(dysp|pneu,text) is parameterized by two classifiers that take text embeddings as an input, one for P(dysp|pneu=yes,text) and one for P(dysp|pneu=no,text). \n",
    "\n",
    "![title](figures\\models_discr.png)"
   ]
  },
  {
   "cell_type": "code",
   "execution_count": 1,
   "metadata": {},
   "outputs": [],
   "source": [
    "%load_ext autoreload\n",
    "%autoreload 2"
   ]
  },
  {
   "cell_type": "code",
   "execution_count": 2,
   "metadata": {},
   "outputs": [],
   "source": [
    "import pickle\n",
    "with open(\"data/train_4000_final.p\", \"rb\") as file: \n",
    "    train_df = pickle.load(file)"
   ]
  },
  {
   "cell_type": "code",
   "execution_count": 3,
   "metadata": {},
   "outputs": [],
   "source": [
    "import pickle\n",
    "with open(\"data/test_1000_final.p\", \"rb\") as file: \n",
    "    test_df = pickle.load(file)"
   ]
  },
  {
   "cell_type": "code",
   "execution_count": 4,
   "metadata": {},
   "outputs": [],
   "source": [
    "class_map = {\"season\": {\"warm\": 0, \"cold\": 1}, \n",
    "            \"pneu\": {\"no\": 0, \"yes\": 1}, \"inf\": {\"no\": 0, \"yes\": 1}, \n",
    "            \"dysp\": {\"no\": 0, \"yes\": 1}, \"cough\": {\"no\": 0, \"yes\": 1}, \"nasal\": {\"no\": 0, \"yes\": 1}}"
   ]
  },
  {
   "cell_type": "code",
   "execution_count": 5,
   "metadata": {},
   "outputs": [
    {
     "name": "stderr",
     "output_type": "stream",
     "text": [
      "c:\\Users\\Paloma\\anaconda3\\envs\\bn-text\\Lib\\site-packages\\tqdm\\auto.py:21: TqdmWarning: IProgress not found. Please update jupyter and ipywidgets. See https://ipywidgets.readthedocs.io/en/stable/user_install.html\n",
      "  from .autonotebook import tqdm as notebook_tqdm\n"
     ]
    },
    {
     "name": "stdout",
     "output_type": "stream",
     "text": [
      "cpu\n"
     ]
    },
    {
     "name": "stderr",
     "output_type": "stream",
     "text": [
      "c:\\Users\\Paloma\\Work\\bn-text\\utils\\data.py:112: UserWarning: Creating a tensor from a list of numpy.ndarrays is extremely slow. Please consider converting the list to a single numpy.ndarray with numpy.array() before converting to a tensor. (Triggered internally at C:\\cb\\pytorch_1000000000000\\work\\torch\\csrc\\utils\\tensor_new.cpp:248.)\n",
      "  preprocessed_data[\"text\"] = torch.tensor(self.dataframe[self.emb_type].tolist(), dtype=torch.float, device=self.device)\n"
     ]
    }
   ],
   "source": [
    "from utils.data import TabDataset\n",
    "import torch\n",
    "\n",
    "emb_type = \"BioLORD emb\"\n",
    "device = torch.device(\"cuda\" if torch.cuda.is_available() else \"cpu\") # put train and test data on the device\n",
    "print(device)\n",
    "train_set = TabDataset(train_df, class_map, emb_type, device)\n",
    "test_set = TabDataset(test_df, class_map, emb_type, device)"
   ]
  },
  {
   "cell_type": "markdown",
   "metadata": {},
   "source": [
    "In utils.models, you can find the class DiscriminativeModel. This implements the Bayesian network with text classifiers as shown in the figure, using the class TextEmbClassifier to model the text classifiers. "
   ]
  },
  {
   "cell_type": "code",
   "execution_count": 6,
   "metadata": {},
   "outputs": [],
   "source": [
    "from torch.utils.data import DataLoader\n",
    "from torch.optim import Adam\n",
    "import torch\n",
    "from utils.models import DiscriminativeModel, DiscriminativeModelAbl\n",
    "\n",
    "def train_model_discriminative(train, test, n_emb, hidden_dim, dropout, node_names, cpt_names, device, model_type=\"discr\", bs_train=100, epochs=100, seed=2023, lr_cpt=0.05, lr_nn=0.001, weight_decay=1e-5):\n",
    "    \"\"\"\n",
    "    training loop for learning all parameters of BN with text discriminator\n",
    "    \n",
    "    train: set of training samples\n",
    "    test: set of test samples\n",
    "    n_emb: text embedding dimension\n",
    "    hidden_dim: dict {var_name: [...]} containing list of hidden dimensions to use in text classifiers\n",
    "    dropout: dict {var_name: ...} containing dropout probability to use in text classifiers\n",
    "    node_names: list of names of all nodes in the BN (except text)\n",
    "    cpt_names: list of names of all nodes in the BN for which a regular conditional probability table is learned (no text classifier)\n",
    "    device: device to load the model to (GPU/CPU)\n",
    "    model_type: type of model (\"discr\" or \"discr_abl\")\n",
    "    \n",
    "    bs_train: batch size to use for training\n",
    "    epochs: number of epochs to train for\n",
    "    seed: seed to use for initialization\n",
    "    lr_cpt: learning rate to use for learning conditional probability table parameters\n",
    "    lr_nn: learning rate to use for learning text classifier weights\n",
    "    weight_decay: weight decay to use in Adam optimizer for learning text classifier weights\n",
    "\n",
    "    returns\n",
    "        train_loss: dict of individual train losses across epochs (i.e. logP for each separate conditional distribution)\n",
    "        test_loss: dict of individual test losses across epochs (i.e. logP for each separate conditional distribution)\n",
    "        model: trained BN with text discriminators\n",
    "    \"\"\"\n",
    "    \n",
    "    torch.manual_seed(seed)\n",
    "    \n",
    "    train_loader = DataLoader(train, batch_size=bs_train, shuffle=True)\n",
    "    test_loader = DataLoader(test, batch_size=len(test), shuffle=False)\n",
    "\n",
    "    # put model on the device\n",
    "    if model_type == \"discr\": \n",
    "        model = DiscriminativeModel(n_emb, hidden_dim, dropout, seed, device)\n",
    "        model.to(device)\n",
    "    elif model_type == \"discr_abl\":\n",
    "        model = DiscriminativeModelAbl(n_emb, hidden_dim, dropout, seed, device)\n",
    "        model.to(device)\n",
    "\n",
    "    # use different learning rate for the CPT parameters vs. the NN parameters\n",
    "    params_cpt = []\n",
    "    params_nn = []\n",
    "    for name, param in model.named_parameters():\n",
    "        if \"lin\" in name: \n",
    "            params_nn.append(param) ## NN params\n",
    "        elif name.split(\".\")[1] in cpt_names:\n",
    "            params_cpt.append(param) ## CPT params\n",
    "        else: \n",
    "            print(\"unknown parameter\")\n",
    "    param_groups = [{\"params\": params_cpt, \"lr\": lr_cpt}, {\"params\": params_nn, \"lr\": lr_nn, \"weight_decay\": weight_decay}]\n",
    "    adam = Adam(param_groups)\n",
    "\n",
    "    train_loss = {key:[] for key in node_names}\n",
    "    test_loss = {key:[] for key in node_names}\n",
    "\n",
    "    for epoch in range(epochs):\n",
    "\n",
    "        model.train() # put model in train mode\n",
    "        epoch_loss = {key:0 for key in node_names}\n",
    "\n",
    "        for i, x in enumerate(train_loader): \n",
    "\n",
    "            adam.zero_grad()\n",
    "\n",
    "            losses = model(x) # log likelihood of batch under current parametrization of the model\n",
    "            LL = {key: loss.sum() for key, loss in losses.items()}\n",
    "            batch_loss = -sum(LL.values()) # batch loss is sum of all individual losses \n",
    "            batch_loss.backward()\n",
    "\n",
    "            epoch_loss = {key: loss + -LL[key].item() for key, loss in epoch_loss.items()} # store total losses for individual variables per epoch\n",
    "            \n",
    "            torch.nn.utils.clip_grad_value_(model.parameters(), 5)\n",
    "            adam.step()\n",
    "        \n",
    "        train_loss = {key: loss_list + [epoch_loss[key]] for key, loss_list in train_loss.items()}\n",
    "\n",
    "        model.eval() # put model in evaluation mode\n",
    "        with torch.no_grad():\n",
    "            for x_test in test_loader: \n",
    "                losses = model(x_test)\n",
    "                LL = {key: loss.sum() for key, loss in losses.items()}\n",
    "                test_loss = {key: loss_list + [-LL[key].item()] for key, loss_list in test_loss.items()}\n",
    "\n",
    "    for key in train_loss: \n",
    "        if key in [\"dysp\", \"nasal\", \"cough\"]:\n",
    "            train_loss[key] = [e/train.len_sympt_obs() for e in train_loss[key]] # only count the times when this loss was counted = number of records where symptoms are observed\n",
    "            test_loss[key] = [e/test.len_sympt_obs() for e in test_loss[key]]\n",
    "        else: \n",
    "            train_loss[key] = [e/len(train) for e in train_loss[key]]  # loss was counted for every train record because always observed\n",
    "            test_loss[key] = [e/len(test) for e in test_loss[key]]\n",
    "\n",
    "    return train_loss, test_loss, model"
   ]
  },
  {
   "cell_type": "markdown",
   "metadata": {},
   "source": [
    "The hyperparameters bs_train, epochs and lr were optimized using a separate train/val split. "
   ]
  },
  {
   "cell_type": "code",
   "execution_count": null,
   "metadata": {},
   "outputs": [],
   "source": [
    "from sklearn.model_selection import train_test_split\n",
    "seed = 2024\n",
    "subtrain_df, val_df = train_test_split(train_df, train_size=0.8, random_state=seed) # use val_df in code below to optimize hyperparameters"
   ]
  },
  {
   "cell_type": "markdown",
   "metadata": {},
   "source": [
    "Using this train/val split, we landed on the configuration below. "
   ]
  },
  {
   "cell_type": "code",
   "execution_count": 10,
   "metadata": {},
   "outputs": [],
   "source": [
    "n_emb = 768\n",
    "hidden_dim = {\"pneu\": [256, 1], \"inf\": [1], \"dysp\": [1], \"cough\": [1], \"nasal\": [1]}\n",
    "dropout = {\"pneu\": 0.7, \"inf\": 0.7, \"dysp\": 0, \"cough\": 0, \"nasal\": 0}\n",
    "bs_train = 256\n",
    "epochs = 200\n",
    "lr_cpt = 0.05\n",
    "lr_nn = 0.001\n",
    "weight_decay = 1e-3\n",
    "node_names = [\"season\", \"pneu\", \"inf\", \"dysp\", \"cough\", \"nasal\"]\n",
    "cpt_names = [\"season\"]\n",
    "seed = 2024\n",
    "\n",
    "train_loss_individual, test_loss_individual, model = train_model_discriminative(train_set, test_set, n_emb, hidden_dim, dropout, node_names, cpt_names, device, bs_train=bs_train, epochs=epochs, seed=seed, lr_cpt=lr_cpt, lr_nn=lr_nn, weight_decay=weight_decay)"
   ]
  },
  {
   "cell_type": "markdown",
   "metadata": {},
   "source": [
    "The plot below shows that all invidiual CPT losses have converged. "
   ]
  },
  {
   "cell_type": "code",
   "execution_count": 11,
   "metadata": {},
   "outputs": [],
   "source": [
    "import numpy as np\n",
    "# calculate total loss from individual train and test loss\n",
    "total_train = np.zeros(len(train_loss_individual[\"pneu\"]))\n",
    "for key, val in train_loss_individual.items():\n",
    "    total_train += val\n",
    "total_test = np.zeros(len(test_loss_individual[\"pneu\"]))\n",
    "for key, val in test_loss_individual.items():\n",
    "    total_test += val"
   ]
  },
  {
   "cell_type": "code",
   "execution_count": 12,
   "metadata": {},
   "outputs": [
    {
     "data": {
      "image/png": "[encoded data removed]",
      "text/plain": [
       "<Figure size 432x288 with 1 Axes>"
      ]
     },
     "metadata": {
      "needs_background": "light"
     },
     "output_type": "display_data"
    },
    {
     "data": {
      "image/png": "[encoded data removed]",
      "text/plain": [
       "<Figure size 864x576 with 6 Axes>"
      ]
     },
     "metadata": {
      "needs_background": "light"
     },
     "output_type": "display_data"
    }
   ],
   "source": [
    "from utils.evaluation import plot_loss\n",
    "plot_loss(train_loss_individual, test_loss_individual, epochs, total_train, total_test)"
   ]
  },
  {
   "cell_type": "markdown",
   "metadata": {},
   "source": [
    "Finally, we can use the fitted model to predict the following probabilities: \n",
    "- P(Diag=yes|background,symptoms,text)\n",
    "- P(Diag=yes|background,symptoms) \n",
    "- P(Diag=yes|background,text)\n",
    "\n",
    "We use an exact Bayesian inference procedure for this, which is implemented in infer_query and used by the predict_diagnoses function (see utils.evaluation). \n",
    "\n",
    "We also calculate the KL divergence between the learned CPTs and the ground-truth CPTs. \n",
    "\n",
    "The code below fits the discriminative model for 5 seeds and calculates these outcomes for every seed. "
   ]
  },
  {
   "cell_type": "code",
   "execution_count": 7,
   "metadata": {},
   "outputs": [
    {
     "name": "stdout",
     "output_type": "stream",
     "text": [
      "cpu\n"
     ]
    }
   ],
   "source": [
    "from utils.evaluation import CPD_params, predict_diagnoses, performance_metrics\n",
    "\n",
    "class_map = {\"season\": {\"warm\": 0, \"cold\": 1}, \n",
    "            \"pneu\": {\"no\": 0, \"yes\": 1}, \"inf\": {\"no\": 0, \"yes\": 1}, \n",
    "            \"dysp\": {\"no\": 0, \"yes\": 1}, \"cough\": {\"no\": 0, \"yes\": 1}, \"nasal\": {\"no\": 0, \"yes\": 1}}\n",
    "    \n",
    "n_emb = 768\n",
    "hidden_dim = {\"pneu\": [256, 1], \"inf\": [1], \"dysp\": [1], \"cough\": [1], \"nasal\": [1]}\n",
    "dropout = {\"pneu\": 0.7, \"inf\": 0.7, \"dysp\": 0, \"cough\": 0, \"nasal\": 0}\n",
    "bs_train = 256\n",
    "epochs = 200\n",
    "lr_cpt = 0.05\n",
    "lr_nn = 0.001\n",
    "weight_decay = 1e-3\n",
    "node_names = [\"season\", \"pneu\", \"inf\", \"dysp\", \"cough\", \"nasal\"]\n",
    "cpt_names = [\"season\"]\n",
    "\n",
    "emb_type = \"BioLORD emb\"\n",
    "empty_text_emb = torch.tensor(train_df[train_df[\"text\"] == \"\"].iloc[0][emb_type]) # empty text embedding for evaluation purposes\n",
    "\n",
    "device = torch.device(\"cuda\" if torch.cuda.is_available() else \"cpu\")\n",
    "print(device)\n",
    "\n",
    "seeds = [422, 957, 267, 956, 781]\n",
    "\n",
    "results = {}\n",
    "\n",
    "for seed in seeds:\n",
    "\n",
    "    results[seed] = {}\n",
    "\n",
    "    ## TRAINING ##\n",
    "    \n",
    "    _, _, model = train_model_discriminative(train_set, test_set, n_emb, hidden_dim, dropout, node_names, cpt_names, device, bs_train=bs_train, epochs=epochs, seed=seed, lr_cpt=lr_cpt, lr_nn=lr_nn, weight_decay=weight_decay)\n",
    "\n",
    "    ## EVALUATION ##\n",
    "\n",
    "    # KL divergence\n",
    "    _, _, KL = CPD_params(model, \"discr\", empty_text_emb=empty_text_emb)\n",
    "    results[seed][f\"KL\"] = KL\n",
    "\n",
    "    # P(pneu=yes|background,symptoms,text)\n",
    "    pred_df = predict_diagnoses(model, test_set, 1, model_type=\"discr\", empty_text_emb=empty_text_emb)\n",
    "    _, ap = performance_metrics(pred_df, \"pneu\", model_type=\"discr\", plot=False) \n",
    "    results[seed][f\"P(pneu|season,symptoms,text) test PR\"] = ap\n",
    "    _, ap = performance_metrics(pred_df, \"inf\", model_type=\"discr\", plot=False) \n",
    "    results[seed][f\"P(inf|season,symptoms,text) test PR\"] = ap\n",
    "\n",
    "    # P(pneu=yes|background,symptoms)\n",
    "    pred_df = predict_diagnoses(model, test_set, 1, model_type=\"discr\", excl_text=True, empty_text_emb=empty_text_emb)\n",
    "    _, ap = performance_metrics(pred_df, \"pneu\", model_type=\"discr\", plot=False) \n",
    "    results[seed][f\"P(pneu|season,symptoms) test PR\"] = ap\n",
    "    _, ap = performance_metrics(pred_df, \"inf\", model_type=\"discr\", plot=False) \n",
    "    results[seed][f\"P(inf|season,symptoms) test PR\"] = ap\n",
    "\n",
    "    # P(pneu=yes|background,text)\n",
    "    pred_df = predict_diagnoses(model, test_set, 100, model_type=\"discr\", excl_sympt=True, empty_text_emb=empty_text_emb)\n",
    "    _, ap = performance_metrics(pred_df, \"pneu\", model_type=\"discr\", plot=False) \n",
    "    results[seed][f\"P(pneu|season,text) test PR\"] = ap\n",
    "    _, ap = performance_metrics(pred_df, \"inf\", model_type=\"discr\", plot=False) \n",
    "    results[seed][f\"P(inf|season,text) test PR\"] = ap"
   ]
  },
  {
   "cell_type": "code",
   "execution_count": 8,
   "metadata": {},
   "outputs": [
    {
     "data": {
      "text/plain": [
       "{422: {'KL': 0.008928098188671928,\n",
       "  'P(pneu|season,symptoms,text) test PR': 0.7670523259808975,\n",
       "  'P(inf|season,symptoms,text) test PR': 0.9016219600703267,\n",
       "  'P(pneu|season,symptoms) test PR': 0.10638791883735683,\n",
       "  'P(inf|season,symptoms) test PR': 0.8888777490041548,\n",
       "  'P(pneu|season,text) test PR': 0.6997384386978757,\n",
       "  'P(inf|season,text) test PR': 0.8735221266440443},\n",
       " 957: {'KL': 0.011345678846366497,\n",
       "  'P(pneu|season,symptoms,text) test PR': 0.782641857969185,\n",
       "  'P(inf|season,symptoms,text) test PR': 0.9016735137311078,\n",
       "  'P(pneu|season,symptoms) test PR': 0.10869365312826833,\n",
       "  'P(inf|season,symptoms) test PR': 0.8888777490041548,\n",
       "  'P(pneu|season,text) test PR': 0.7261935209284252,\n",
       "  'P(inf|season,text) test PR': 0.8739028444487781},\n",
       " 267: {'KL': 0.008352948108465793,\n",
       "  'P(pneu|season,symptoms,text) test PR': 0.7426923354791822,\n",
       "  'P(inf|season,symptoms,text) test PR': 0.9027957283998973,\n",
       "  'P(pneu|season,symptoms) test PR': 0.10879815002279707,\n",
       "  'P(inf|season,symptoms) test PR': 0.8888777490041548,\n",
       "  'P(pneu|season,text) test PR': 0.6874475260189546,\n",
       "  'P(inf|season,text) test PR': 0.8775187843949067},\n",
       " 956: {'KL': 0.0064966263897837315,\n",
       "  'P(pneu|season,symptoms,text) test PR': 0.764692453511579,\n",
       "  'P(inf|season,symptoms,text) test PR': 0.9030181705502242,\n",
       "  'P(pneu|season,symptoms) test PR': 0.10882334741164937,\n",
       "  'P(inf|season,symptoms) test PR': 0.8888777490041548,\n",
       "  'P(pneu|season,text) test PR': 0.7186300633613769,\n",
       "  'P(inf|season,text) test PR': 0.8750143853270916},\n",
       " 781: {'KL': 0.00952479370410319,\n",
       "  'P(pneu|season,symptoms,text) test PR': 0.7954800554676124,\n",
       "  'P(inf|season,symptoms,text) test PR': 0.9012592385383633,\n",
       "  'P(pneu|season,symptoms) test PR': 0.10857714061534876,\n",
       "  'P(inf|season,symptoms) test PR': 0.8888777490041548,\n",
       "  'P(pneu|season,text) test PR': 0.7295659282423989,\n",
       "  'P(inf|season,text) test PR': 0.8749215147838497}}"
      ]
     },
     "execution_count": 8,
     "metadata": {},
     "output_type": "execute_result"
    }
   ],
   "source": [
    "results"
   ]
  },
  {
   "cell_type": "markdown",
   "metadata": {},
   "source": [
    "## Ablation of discriminative text model\n",
    "\n",
    "We remove the arrow from text -> pneu and from text -> inf. Now, the nodes pneu and inf can be modeled using regular conditional probability tables, instead of as text classifiers. The nodes dysp, cough and nasal are still modeled as text classifiers. \n",
    "\n",
    "Again, we run over 5 initialization seeds. "
   ]
  },
  {
   "cell_type": "code",
   "execution_count": 9,
   "metadata": {},
   "outputs": [
    {
     "name": "stdout",
     "output_type": "stream",
     "text": [
      "cpu\n"
     ]
    }
   ],
   "source": [
    "from utils.evaluation import CPD_params, predict_diagnoses, performance_metrics\n",
    "\n",
    "class_map = {\"season\": {\"warm\": 0, \"cold\": 1}, \n",
    "            \"pneu\": {\"no\": 0, \"yes\": 1}, \"inf\": {\"no\": 0, \"yes\": 1}, \n",
    "            \"dysp\": {\"no\": 0, \"yes\": 1}, \"cough\": {\"no\": 0, \"yes\": 1}, \"nasal\": {\"no\": 0, \"yes\": 1}}\n",
    "    \n",
    "n_emb = 768\n",
    "hidden_dim = {\"dysp\": [1], \"cough\": [1], \"nasal\": [1]}\n",
    "dropout = {\"dysp\": 0, \"cough\": 0, \"nasal\": 0}\n",
    "bs_train = 256\n",
    "epochs = 200\n",
    "lr_cpt = 0.05\n",
    "lr_nn = 0.001\n",
    "weight_decay = 1e-3\n",
    "node_names = [\"season\", \"pneu\", \"inf\", \"dysp\", \"cough\", \"nasal\"]\n",
    "cpt_names = [\"season\", \"pneu\", \"inf\"]\n",
    "\n",
    "emb_type = \"BioLORD emb\"\n",
    "empty_text_emb = torch.tensor(train_df[train_df[\"text\"] == \"\"].iloc[0][emb_type]) # empty text embedding for evaluation purposes\n",
    "\n",
    "device = torch.device(\"cuda\" if torch.cuda.is_available() else \"cpu\")\n",
    "print(device)\n",
    "\n",
    "seeds = [422, 957, 267, 956, 781]\n",
    "\n",
    "results = {}\n",
    "\n",
    "for seed in seeds:\n",
    "\n",
    "    results[seed] = {}\n",
    "\n",
    "    ## TRAINING ##\n",
    "    \n",
    "    _, _, model = train_model_discriminative(train_set, test_set, n_emb, hidden_dim, dropout, node_names, cpt_names, device, model_type=\"discr_abl\", bs_train=bs_train, epochs=epochs, seed=seed, lr_cpt=lr_cpt, lr_nn=lr_nn, weight_decay=weight_decay)\n",
    "\n",
    "    ## EVALUATION ##\n",
    "\n",
    "    # KL divergence\n",
    "    _, _, KL = CPD_params(model, \"discr_abl\", empty_text_emb=empty_text_emb)\n",
    "    results[seed][f\"KL\"] = KL\n",
    "\n",
    "    # P(pneu=yes|background,symptoms,text)\n",
    "    pred_df = predict_diagnoses(model, test_set, 1, model_type=\"discr_abl\", empty_text_emb=empty_text_emb)\n",
    "    _, ap = performance_metrics(pred_df, \"pneu\", model_type=\"discr_abl\", plot=False) \n",
    "    results[seed][f\"P(pneu|season,symptoms,text) test PR\"] = ap\n",
    "    _, ap = performance_metrics(pred_df, \"inf\", model_type=\"discr_abl\", plot=False) \n",
    "    results[seed][f\"P(inf|season,symptoms,text) test PR\"] = ap\n",
    "\n",
    "    # P(pneu=yes|background,symptoms)\n",
    "    pred_df = predict_diagnoses(model, test_set, 1, model_type=\"discr_abl\", excl_text=True, empty_text_emb=empty_text_emb)\n",
    "    _, ap = performance_metrics(pred_df, \"pneu\", model_type=\"discr_abl\", plot=False) \n",
    "    results[seed][f\"P(pneu|season,symptoms) test PR\"] = ap\n",
    "    _, ap = performance_metrics(pred_df, \"inf\", model_type=\"discr_abl\", plot=False) \n",
    "    results[seed][f\"P(inf|season,symptoms) test PR\"] = ap\n",
    "\n",
    "    # P(pneu=yes|background,text)\n",
    "    pred_df = predict_diagnoses(model, test_set, 100, model_type=\"discr_abl\", excl_sympt=True, empty_text_emb=empty_text_emb)\n",
    "    _, ap = performance_metrics(pred_df, \"pneu\", model_type=\"discr_abl\", plot=False) \n",
    "    results[seed][f\"P(pneu|season,text) test PR\"] = ap\n",
    "    _, ap = performance_metrics(pred_df, \"inf\", model_type=\"discr_abl\", plot=False) \n",
    "    results[seed][f\"P(inf|season,text) test PR\"] = ap"
   ]
  },
  {
   "cell_type": "code",
   "execution_count": 10,
   "metadata": {},
   "outputs": [
    {
     "data": {
      "text/plain": [
       "{422: {'KL': 0.005247393034132819,\n",
       "  'P(pneu|season,symptoms,text) test PR': 0.10300327786307287,\n",
       "  'P(inf|season,symptoms,text) test PR': 0.8061383026722112,\n",
       "  'P(pneu|season,symptoms) test PR': 0.10672846933492644,\n",
       "  'P(inf|season,symptoms) test PR': 0.8888777490041548,\n",
       "  'P(pneu|season,text) test PR': 0.03022864060878589,\n",
       "  'P(inf|season,text) test PR': 0.4441163639127461},\n",
       " 957: {'KL': 0.004837046875179437,\n",
       "  'P(pneu|season,symptoms,text) test PR': 0.10226481933047933,\n",
       "  'P(inf|season,symptoms,text) test PR': 0.8071503518907083,\n",
       "  'P(pneu|season,symptoms) test PR': 0.08975213910558417,\n",
       "  'P(inf|season,symptoms) test PR': 0.8888777490041548,\n",
       "  'P(pneu|season,text) test PR': 0.03022864060878589,\n",
       "  'P(inf|season,text) test PR': 0.4441163639127461},\n",
       " 267: {'KL': 0.007807039304489337,\n",
       "  'P(pneu|season,symptoms,text) test PR': 0.10118044235502023,\n",
       "  'P(inf|season,symptoms,text) test PR': 0.8068064523442345,\n",
       "  'P(pneu|season,symptoms) test PR': 0.10869365312826833,\n",
       "  'P(inf|season,symptoms) test PR': 0.8888777490041548,\n",
       "  'P(pneu|season,text) test PR': 0.03022864060878589,\n",
       "  'P(inf|season,text) test PR': 0.4441163639127461},\n",
       " 956: {'KL': 0.0052007966093091385,\n",
       "  'P(pneu|season,symptoms,text) test PR': 0.10105049667912291,\n",
       "  'P(inf|season,symptoms,text) test PR': 0.8066310018052338,\n",
       "  'P(pneu|season,symptoms) test PR': 0.10672846933492644,\n",
       "  'P(inf|season,symptoms) test PR': 0.8888777490041548,\n",
       "  'P(pneu|season,text) test PR': 0.03022864060878589,\n",
       "  'P(inf|season,text) test PR': 0.4441163639127461},\n",
       " 781: {'KL': 0.007351298804373714,\n",
       "  'P(pneu|season,symptoms,text) test PR': 0.10076586014145117,\n",
       "  'P(inf|season,symptoms,text) test PR': 0.8059326501296784,\n",
       "  'P(pneu|season,symptoms) test PR': 0.10869365312826833,\n",
       "  'P(inf|season,symptoms) test PR': 0.8888777490041548,\n",
       "  'P(pneu|season,text) test PR': 0.03022864060878589,\n",
       "  'P(inf|season,text) test PR': 0.4441163639127461}}"
      ]
     },
     "execution_count": 10,
     "metadata": {},
     "output_type": "execute_result"
    }
   ],
   "source": [
    "results"
   ]
  },
  {
   "cell_type": "code",
   "execution_count": null,
   "metadata": {},
   "outputs": [],
   "source": []
  }
 ],
 "metadata": {
  "kernelspec": {
   "display_name": "bn-text",
   "language": "python",
   "name": "python3"
  },
  "language_info": {
   "codemirror_mode": {
    "name": "ipython",
    "version": 3
   },
   "file_extension": ".py",
   "mimetype": "text/x-python",
   "name": "python",
   "nbconvert_exporter": "python",
   "pygments_lexer": "ipython3",
   "version": "3.11.4"
  }
 },
 "nbformat": 4,
 "nbformat_minor": 2
}
